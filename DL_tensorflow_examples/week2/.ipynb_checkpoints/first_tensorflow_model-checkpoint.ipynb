{
 "cells": [
  {
   "cell_type": "code",
   "execution_count": 61,
   "metadata": {},
   "outputs": [],
   "source": [
    "import numpy as np\n",
    "import tensorflow as tf"
   ]
  },
  {
   "cell_type": "code",
   "execution_count": 62,
   "metadata": {},
   "outputs": [],
   "source": [
    "tf.reset_default_graph()\n",
    "x = tf.get_variable(\"x\", shape = (), dtype = tf.float32)\n",
    "f = x**2"
   ]
  },
  {
   "cell_type": "code",
   "execution_count": 63,
   "metadata": {},
   "outputs": [],
   "source": [
    "optimizer = tf.train.GradientDescentOptimizer(0.1)\n",
    "step = optimizer.minimize(f, var_list=[x])\n",
    "# You dont have to specify all the optimized variables"
   ]
  },
  {
   "cell_type": "code",
   "execution_count": 64,
   "metadata": {},
   "outputs": [],
   "source": [
    "#All variables are trainable by default\n",
    "#x = tf.get_variable(\"x\", shape=(), dtype = tf.float32)\n",
    "#x = tf.get_variable(\"x\", shape=(), dtype=tf.float32, trainable=True)"
   ]
  },
  {
   "cell_type": "code",
   "execution_count": 65,
   "metadata": {},
   "outputs": [
    {
     "data": {
      "text/plain": [
       "[<tf.Variable 'x:0' shape=() dtype=float32_ref>]"
      ]
     },
     "execution_count": 65,
     "metadata": {},
     "output_type": "execute_result"
    }
   ],
   "source": [
    "tf.trainable_variables()"
   ]
  },
  {
   "cell_type": "code",
   "execution_count": 66,
   "metadata": {},
   "outputs": [],
   "source": [
    "s = tf.InteractiveSession()\n",
    "s.run(tf.global_variables_initializer())"
   ]
  },
  {
   "cell_type": "code",
   "execution_count": 67,
   "metadata": {},
   "outputs": [
    {
     "name": "stdout",
     "output_type": "stream",
     "text": [
      "0.028558541 0.0012743598\n",
      "0.022846833 0.00081559026\n",
      "0.018277466 0.0005219778\n",
      "0.014621973 0.0003340658\n",
      "0.011697578 0.0002138021\n",
      "0.009358062 0.00013683333\n",
      "0.00748645 8.757333e-05\n",
      "0.00598916 5.6046934e-05\n",
      "0.0047913278 3.5870038e-05\n",
      "0.0038330622 2.2956821e-05\n",
      "0.00306645 1.4692366e-05\n",
      "0.00245316 9.403115e-06\n",
      "0.001962528 6.017994e-06\n",
      "0.0015700224 3.8515163e-06\n",
      "0.001256018 2.4649705e-06\n",
      "0.0010048144 1.5775811e-06\n",
      "0.0008038515 1.009652e-06\n",
      "0.0006430812 6.461773e-07\n",
      "0.000514465 4.1355344e-07\n",
      "0.000411572 2.646742e-07\n"
     ]
    }
   ],
   "source": [
    "for i in range(20):\n",
    "    _, curr_x, curr_f = s.run([step, x, f])\n",
    "    print(curr_x, curr_f)"
   ]
  },
  {
   "cell_type": "code",
   "execution_count": 68,
   "metadata": {},
   "outputs": [],
   "source": [
    "#f = x**2\n",
    "#f = tf.print(f, [x, f], \"x, f:\")\n",
    "#for i in range(10):\n",
    "#    s.run([step, f])"
   ]
  },
  {
   "cell_type": "code",
   "execution_count": null,
   "metadata": {},
   "outputs": [],
   "source": [
    "#with tf.Session() as s:  # in this way session will be closed automatically\n",
    "#    s.run(tf.global_variables_initializer())\n",
    "#    for i in range(20):\n",
    "#        _, curr_x, curr_f = s.run([step, x, f])\n",
    "#        print(curr_x, curr_f)"
   ]
  },
  {
   "cell_type": "markdown",
   "metadata": {},
   "source": [
    "### Optimization (with TensorBoard logging)"
   ]
  },
  {
   "cell_type": "code",
   "execution_count": null,
   "metadata": {},
   "outputs": [],
   "source": [
    "tf.reset_default_graph()\n",
    "x = tf.get_variable(\"x\", shape=(), dtype=tf.float32)\n",
    "f = x ** 2"
   ]
  },
  {
   "cell_type": "code",
   "execution_count": null,
   "metadata": {},
   "outputs": [],
   "source": [
    "optimizer = tf.train.GradientDescentOptimizer(0.1)\n",
    "step = optimizer.minimize(f)"
   ]
  },
  {
   "cell_type": "code",
   "execution_count": 69,
   "metadata": {},
   "outputs": [],
   "source": [
    "tf.summary.scalar('curr_x', x)\n",
    "tf.summary.scalar('curr_f', f)\n",
    "summaries = tf.summary.merge_all()"
   ]
  },
  {
   "cell_type": "code",
   "execution_count": 70,
   "metadata": {},
   "outputs": [],
   "source": [
    "s = tf.InteractiveSession()\n",
    "summary_writer = tf.summary.FileWriter(\"logs/1\", s.graph)\n",
    "s.run(tf.global_variables_initializer())\n",
    "for i in range(10):\n",
    "    _, curr_summaries = s.run([step, summaries])\n",
    "    summary_writer.add_summary(curr_summaries, i)\n",
    "    summary_writer.flush()"
   ]
  },
  {
   "cell_type": "markdown",
   "metadata": {},
   "source": [
    "Run  `tensorboard --logdir=./logs` in bash"
   ]
  },
  {
   "cell_type": "code",
   "execution_count": null,
   "metadata": {},
   "outputs": [],
   "source": []
  },
  {
   "cell_type": "code",
   "execution_count": null,
   "metadata": {},
   "outputs": [],
   "source": [
    "# google Colab tensorboard run\n",
    "# RUN THIS CELL ONLY ON GOOGLE COLAB\n",
    "#! wget https://raw.githubusercontent.com/hse-aml/intro-to-dl/master/setup_google_colab.py -O setup_google_colab.py\n",
    "#import setup_google_colab\n",
    "\n",
    "# run tensorboard in background\n",
    "#import os\n",
    "#os.system(\"tensorboard --logdir=./logs --host 0.0.0.0 --port 6006 &\")\n",
    "\n",
    "# expose port and show the link\n",
    "#setup_google_colab.expose_port_on_colab(6006)\n",
    "#s.close"
   ]
  },
  {
   "cell_type": "markdown",
   "metadata": {},
   "source": [
    "## Solving a Linear Regression"
   ]
  },
  {
   "cell_type": "code",
   "execution_count": 5,
   "metadata": {},
   "outputs": [],
   "source": [
    "import numpy as np\n",
    "import tensorflow as tf\n",
    "# Let's generate a model dataset:\n",
    "N = 1000 #1000 points\n",
    "D = 3 # 3 dimensions\n",
    "x = np.random.random((N, D)) #randomly uniform features\n",
    "w = np.random.random((D, 1)) #randomly uniform weights\n",
    "y = x@w+np.random.randn(N, 1)*0.20 # @ sign is used as an operator named as __matmul__\n",
    "# y is target, approximately a linear combination of features with some random noise\n",
    "#print(x.shape, y.shape)\n",
    "#print(w.T)"
   ]
  },
  {
   "cell_type": "code",
   "execution_count": 6,
   "metadata": {},
   "outputs": [],
   "source": [
    "## placeholders for input data\n",
    "tf.reset_default_graph()\n",
    "features = tf.placeholder(tf.float32, shape=(None, D))\n",
    "target = tf.placeholder(tf.float32, shape=(None, 1))"
   ]
  },
  {
   "cell_type": "code",
   "execution_count": 7,
   "metadata": {},
   "outputs": [],
   "source": [
    "## making predictions\n",
    "weights = tf.get_variable(\"w\", shape=(D, 1), dtype = tf.float32)\n",
    "predictions = features @ weights"
   ]
  },
  {
   "cell_type": "code",
   "execution_count": 8,
   "metadata": {},
   "outputs": [],
   "source": [
    "## define our loss\n",
    "loss = tf.reduce_mean((target - predictions)**2) # mean squared error\n",
    "#print(target.shape, predictions.shape, loss.shape)"
   ]
  },
  {
   "cell_type": "code",
   "execution_count": 9,
   "metadata": {},
   "outputs": [],
   "source": [
    "optimizer = tf.train.GradientDescentOptimizer(0.1)\n",
    "step = optimizer.minimize(loss)"
   ]
  },
  {
   "cell_type": "code",
   "execution_count": 10,
   "metadata": {},
   "outputs": [
    {
     "name": "stdout",
     "output_type": "stream",
     "text": [
      "1.7334548\n",
      "0.054157082\n",
      "0.041837987\n",
      "0.03937824\n",
      "0.038883828\n",
      "0.038783897\n"
     ]
    }
   ],
   "source": [
    "# Gradient Descent\n",
    "s = tf.InteractiveSession()\n",
    "s.run(tf.global_variables_initializer())\n",
    "for i in range(300): ##300 iterations\n",
    "    _, curr_loss, curr_weights = s.run(\n",
    "       [step, loss, weights], feed_dict={features: x, target: y}) #filling placeholders\n",
    "    if i % 50 == 0:\n",
    "        print(curr_loss)"
   ]
  },
  {
   "cell_type": "code",
   "execution_count": 12,
   "metadata": {},
   "outputs": [
    {
     "data": {
      "text/plain": [
       "array([[0.53938329],\n",
       "       [0.12360092],\n",
       "       [0.55893527]])"
      ]
     },
     "execution_count": 12,
     "metadata": {},
     "output_type": "execute_result"
    }
   ],
   "source": [
    "w # ground truth weights"
   ]
  },
  {
   "cell_type": "code",
   "execution_count": 11,
   "metadata": {},
   "outputs": [
    {
     "data": {
      "text/plain": [
       "array([[0.5806229 ],\n",
       "       [0.12266117],\n",
       "       [0.5251279 ]], dtype=float32)"
      ]
     },
     "execution_count": 11,
     "metadata": {},
     "output_type": "execute_result"
    }
   ],
   "source": [
    "curr_weights # current weights"
   ]
  },
  {
   "cell_type": "code",
   "execution_count": 14,
   "metadata": {},
   "outputs": [],
   "source": [
    "# Gradient Descent with train.saver\n",
    "#s = tf.InteractiveSession()\n",
    "#saver = tf.train.Saver(tf.trainable_variables())\n",
    "#s.run(tf.global_variables_initializer())\n",
    "#for i in range(300): ##300 iterations\n",
    "#    _, curr_loss, curr_weights = s.run(\n",
    "#       [step, loss, weights], feed_dict={features: x, target: y}) #filling placeholders\n",
    "#    if i % 50 == 0:\n",
    "#        saver.save(s, \"logs/2/model.ckpt\", global_step=i)\n",
    "#        print(curr_loss)"
   ]
  },
  {
   "cell_type": "code",
   "execution_count": 15,
   "metadata": {},
   "outputs": [
    {
     "data": {
      "text/plain": [
       "['logs/2/model.ckpt-50',\n",
       " 'logs/2/model.ckpt-100',\n",
       " 'logs/2/model.ckpt-150',\n",
       " 'logs/2/model.ckpt-200',\n",
       " 'logs/2/model.ckpt-250']"
      ]
     },
     "execution_count": 15,
     "metadata": {},
     "output_type": "execute_result"
    }
   ],
   "source": [
    "saver.last_checkpoints # list last checkpoints"
   ]
  },
  {
   "cell_type": "code",
   "execution_count": 16,
   "metadata": {},
   "outputs": [],
   "source": [
    "#saver.restore(s, \"logs/2/model.ckpt-50\") #restore a previous checkpoint\n",
    "\n",
    "#note: only variables' values are restored, \n",
    "#which means that you need to define a graph \n",
    "#in the same way before restoring a checkpoint"
   ]
  },
  {
   "cell_type": "code",
   "execution_count": 20,
   "metadata": {},
   "outputs": [],
   "source": [
    "#tensorboard is a good tool to provide visualizing your training progress"
   ]
  },
  {
   "cell_type": "code",
   "execution_count": null,
   "metadata": {},
   "outputs": [],
   "source": []
  }
 ],
 "metadata": {
  "kernelspec": {
   "display_name": "Python 3",
   "language": "python",
   "name": "python3"
  },
  "language_info": {
   "codemirror_mode": {
    "name": "ipython",
    "version": 3
   },
   "file_extension": ".py",
   "mimetype": "text/x-python",
   "name": "python",
   "nbconvert_exporter": "python",
   "pygments_lexer": "ipython3",
   "version": "3.6.8"
  }
 },
 "nbformat": 4,
 "nbformat_minor": 2
}
