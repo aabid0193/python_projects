{
 "cells": [
  {
   "cell_type": "markdown",
   "metadata": {},
   "source": [
    "# MapReduce\n",
    "\n",
    "The MapReduce programming technique was designed to analyze massive data sets across a cluster. In this Jupyter notebook, you'll get a sense for how Hadoop MapReduce works; however, this notebook will run locally rather than on a cluster.\n",
    "\n",
    "The biggest difference between Hadoop and Spark is that Spark tries to do as many calculations as possible in memory, which avoids moving data back and forth across a cluster. Hadoop writes intermediate calculations out to disk, which can be less efficient. Hadoop is an older technology than Spark and one of the cornerstone big data technologies.\n",
    "\n",
    "If you click on the Jupyter notebook logo at the top of the workspace, you'll be taken to the workspace directory. There you will see a file called \"songplays.txt\". This is a text file where each line represents a song that was played in the Sparkify app. The MapReduce code will count how many times each song was played. In other words, the code counts how many times the song title appears in the list.\n",
    "\n",
    "\n",
    "# MapReduce versus Hadoop MapReduce\n",
    "\n",
    "Don't get confused by the terminology! MapReduce is a programming technique. Hadoop MapReduce is a specific implementation of the programming technique.\n",
    "\n",
    "Some of the syntax will look a bit funny, so be sure to read the explanation and comments for each section. You'll learn more about the syntax in later lessons. \n",
    "\n",
    "Run each of the code cells below to see the output."
   ]
  },
  {
   "cell_type": "code",
   "execution_count": 5,
   "metadata": {},
   "outputs": [
    {
     "name": "stdout",
     "output_type": "stream",
     "text": [
      "Requirement already satisfied: mrjob in /Users/ersh/anaconda3/lib/python3.7/site-packages (0.6.10)\n",
      "Requirement already satisfied: google-cloud-logging>=1.9.0 in /Users/ersh/anaconda3/lib/python3.7/site-packages (from mrjob) (1.12.1)\n",
      "Requirement already satisfied: google-cloud-storage>=1.13.1 in /Users/ersh/anaconda3/lib/python3.7/site-packages (from mrjob) (1.19.0)\n",
      "Requirement already satisfied: PyYAML>=3.10 in /Users/ersh/anaconda3/lib/python3.7/site-packages (from mrjob) (5.1)\n",
      "Requirement already satisfied: google-cloud-dataproc>=0.3.0 in /Users/ersh/anaconda3/lib/python3.7/site-packages (from mrjob) (0.5.0)\n",
      "Requirement already satisfied: boto3>=1.4.6 in /Users/ersh/anaconda3/lib/python3.7/site-packages (from mrjob) (1.9.180)\n",
      "Requirement already satisfied: botocore>=1.6.0 in /Users/ersh/anaconda3/lib/python3.7/site-packages (from mrjob) (1.12.181)\n",
      "Requirement already satisfied: google-api-core[grpc]<2.0.0dev,>=1.14.0 in /Users/ersh/anaconda3/lib/python3.7/site-packages (from google-cloud-logging>=1.9.0->mrjob) (1.14.2)\n",
      "Requirement already satisfied: google-cloud-core<2.0dev,>=1.0.0 in /Users/ersh/anaconda3/lib/python3.7/site-packages (from google-cloud-logging>=1.9.0->mrjob) (1.0.3)\n",
      "Requirement already satisfied: google-auth>=1.2.0 in /Users/ersh/anaconda3/lib/python3.7/site-packages (from google-cloud-storage>=1.13.1->mrjob) (1.6.3)\n",
      "Requirement already satisfied: google-resumable-media>=0.3.1 in /Users/ersh/anaconda3/lib/python3.7/site-packages (from google-cloud-storage>=1.13.1->mrjob) (0.3.3)\n",
      "Requirement already satisfied: s3transfer<0.3.0,>=0.2.0 in /Users/ersh/anaconda3/lib/python3.7/site-packages (from boto3>=1.4.6->mrjob) (0.2.1)\n",
      "Requirement already satisfied: jmespath<1.0.0,>=0.7.1 in /Users/ersh/anaconda3/lib/python3.7/site-packages (from boto3>=1.4.6->mrjob) (0.9.4)\n",
      "Requirement already satisfied: docutils>=0.10 in /Users/ersh/anaconda3/lib/python3.7/site-packages (from botocore>=1.6.0->mrjob) (0.14)\n",
      "Requirement already satisfied: urllib3<1.26,>=1.20; python_version >= \"3.4\" in /Users/ersh/anaconda3/lib/python3.7/site-packages (from botocore>=1.6.0->mrjob) (1.24.1)\n",
      "Requirement already satisfied: python-dateutil<3.0.0,>=2.1; python_version >= \"2.7\" in /Users/ersh/anaconda3/lib/python3.7/site-packages (from botocore>=1.6.0->mrjob) (2.8.0)\n",
      "Requirement already satisfied: googleapis-common-protos<2.0dev,>=1.6.0 in /Users/ersh/anaconda3/lib/python3.7/site-packages (from google-api-core[grpc]<2.0.0dev,>=1.14.0->google-cloud-logging>=1.9.0->mrjob) (1.6.0)\n",
      "Requirement already satisfied: six>=1.10.0 in /Users/ersh/anaconda3/lib/python3.7/site-packages (from google-api-core[grpc]<2.0.0dev,>=1.14.0->google-cloud-logging>=1.9.0->mrjob) (1.12.0)\n",
      "Requirement already satisfied: requests<3.0.0dev,>=2.18.0 in /Users/ersh/anaconda3/lib/python3.7/site-packages (from google-api-core[grpc]<2.0.0dev,>=1.14.0->google-cloud-logging>=1.9.0->mrjob) (2.21.0)\n",
      "Requirement already satisfied: pytz in /Users/ersh/anaconda3/lib/python3.7/site-packages (from google-api-core[grpc]<2.0.0dev,>=1.14.0->google-cloud-logging>=1.9.0->mrjob) (2019.1)\n",
      "Requirement already satisfied: setuptools>=34.0.0 in /Users/ersh/anaconda3/lib/python3.7/site-packages (from google-api-core[grpc]<2.0.0dev,>=1.14.0->google-cloud-logging>=1.9.0->mrjob) (40.8.0)\n",
      "Requirement already satisfied: protobuf>=3.4.0 in /Users/ersh/anaconda3/lib/python3.7/site-packages (from google-api-core[grpc]<2.0.0dev,>=1.14.0->google-cloud-logging>=1.9.0->mrjob) (3.9.1)\n",
      "Requirement already satisfied: grpcio<2.0dev,>=1.8.2; extra == \"grpc\" in /Users/ersh/anaconda3/lib/python3.7/site-packages (from google-api-core[grpc]<2.0.0dev,>=1.14.0->google-cloud-logging>=1.9.0->mrjob) (1.23.0)\n",
      "Requirement already satisfied: pyasn1-modules>=0.2.1 in /Users/ersh/anaconda3/lib/python3.7/site-packages (from google-auth>=1.2.0->google-cloud-storage>=1.13.1->mrjob) (0.2.6)\n",
      "Requirement already satisfied: rsa>=3.1.4 in /Users/ersh/anaconda3/lib/python3.7/site-packages (from google-auth>=1.2.0->google-cloud-storage>=1.13.1->mrjob) (3.4.2)\n",
      "Requirement already satisfied: cachetools>=2.0.0 in /Users/ersh/anaconda3/lib/python3.7/site-packages (from google-auth>=1.2.0->google-cloud-storage>=1.13.1->mrjob) (3.1.1)\n",
      "Requirement already satisfied: certifi>=2017.4.17 in /Users/ersh/anaconda3/lib/python3.7/site-packages (from requests<3.0.0dev,>=2.18.0->google-api-core[grpc]<2.0.0dev,>=1.14.0->google-cloud-logging>=1.9.0->mrjob) (2019.3.9)\n",
      "Requirement already satisfied: idna<2.9,>=2.5 in /Users/ersh/anaconda3/lib/python3.7/site-packages (from requests<3.0.0dev,>=2.18.0->google-api-core[grpc]<2.0.0dev,>=1.14.0->google-cloud-logging>=1.9.0->mrjob) (2.8)\n",
      "Requirement already satisfied: chardet<3.1.0,>=3.0.2 in /Users/ersh/anaconda3/lib/python3.7/site-packages (from requests<3.0.0dev,>=2.18.0->google-api-core[grpc]<2.0.0dev,>=1.14.0->google-cloud-logging>=1.9.0->mrjob) (3.0.4)\n",
      "Collecting pyasn1<0.5.0,>=0.4.6 (from pyasn1-modules>=0.2.1->google-auth>=1.2.0->google-cloud-storage>=1.13.1->mrjob)\n",
      "\u001b[?25l  Downloading https://files.pythonhosted.org/packages/6a/6e/209351ec34b7d7807342e2bb6ff8a96eef1fd5dcac13bdbadf065c2bb55c/pyasn1-0.4.6-py2.py3-none-any.whl (75kB)\n",
      "\u001b[K    100% |████████████████████████████████| 81kB 3.5MB/s ta 0:00:01\n",
      "\u001b[?25hInstalling collected packages: pyasn1\n",
      "  Found existing installation: pyasn1 0.4.5\n",
      "    Uninstalling pyasn1-0.4.5:\n",
      "\u001b[31mCould not install packages due to an EnvironmentError: [Errno 13] Permission denied: 'zip-safe'\n",
      "Consider using the `--user` option or check the permissions.\n",
      "\u001b[0m\n"
     ]
    }
   ],
   "source": [
    "# Install mrjob library. This package is for running MapReduce jobs with Python\n",
    "# In Jupyter notebooks, \"!\" runs terminal commands from inside notebooks \n",
    "\n",
    "! pip install mrjob"
   ]
  },
  {
   "cell_type": "code",
   "execution_count": 6,
   "metadata": {},
   "outputs": [
    {
     "name": "stdout",
     "output_type": "stream",
     "text": [
      "Overwriting wordcount.py\n"
     ]
    }
   ],
   "source": [
    "%%file wordcount.py\n",
    "# %%file is an Ipython magic function that saves the code cell as a file\n",
    "\n",
    "from mrjob.job import MRJob # import the mrjob library\n",
    "\n",
    "class MRSongCount(MRJob):\n",
    "    \n",
    "    # the map step: each line in the txt file is read as a key, value pair\n",
    "    # in this case, each line in the txt file only contains a value but no key\n",
    "    # _ means that in this case, there is no key for each line\n",
    "    def mapper(self, _, song):\n",
    "        # output each line as a tuple of (song_names, 1) \n",
    "        yield (song, 1)\n",
    "\n",
    "    # the reduce step: combine all tuples with the same key\n",
    "    # in this case, the key is the song name\n",
    "    # then sum all the values of the tuple, which will give the total song plays\n",
    "    def reducer(self, key, values):\n",
    "        yield (key, sum(values))\n",
    "        \n",
    "if __name__ == \"__main__\":\n",
    "    MRSongCount.run()"
   ]
  },
  {
   "cell_type": "code",
   "execution_count": 7,
   "metadata": {},
   "outputs": [
    {
     "name": "stdout",
     "output_type": "stream",
     "text": [
      "No configs found; falling back on auto-configuration\n",
      "No configs specified for inline runner\n",
      "Creating temp directory /var/folders/dq/4nzc6hgn7s12khw9xsk5dghm0000gn/T/wordcount.ersh.20190831.112737.211844\n",
      "Running step 1 of 1...\n",
      "job output is in /var/folders/dq/4nzc6hgn7s12khw9xsk5dghm0000gn/T/wordcount.ersh.20190831.112737.211844/output\n",
      "Streaming final output from /var/folders/dq/4nzc6hgn7s12khw9xsk5dghm0000gn/T/wordcount.ersh.20190831.112737.211844/output...\n",
      "\"Deep Dreams\"\t1131\n",
      "\"Data House Rock\"\t828\n",
      "\"Broken Networks\"\t510\n",
      "Removing temp directory /var/folders/dq/4nzc6hgn7s12khw9xsk5dghm0000gn/T/wordcount.ersh.20190831.112737.211844...\n"
     ]
    }
   ],
   "source": [
    "# run the code as a terminal command\n",
    "! python wordcount.py songplays.txt"
   ]
  },
  {
   "cell_type": "markdown",
   "metadata": {},
   "source": [
    "# Summary of what happens in the code.\n",
    "\n",
    "There is a list of songs in songplays.txt that looks like the following:\n",
    "\n",
    "Deep Dreams\n",
    "Data House Rock\n",
    "Deep Dreams\n",
    "Data House Rock\n",
    "Broken Networks\n",
    "Data House Rock\n",
    "etc.....\n",
    "\n",
    "During the map step, the code reads in the txt file one line at a time. The map steps outputs a set of tuples that look like this:\n",
    "\n",
    "(Deep Dreams, 1)  \n",
    "(Data House Rock, 1)  \n",
    "(Deep Dreams, 1)  \n",
    "(Data House Rock, 1)  \n",
    "(Broken Networks, 1)  \n",
    "(Data House Rock, 1)  \n",
    "etc.....\n",
    "\n",
    "Finally, the reduce step combines all of the values by keys and sums the values:  \n",
    "\n",
    "(Deep Dreams, \\[1, 1, 1, 1, 1, 1, ... \\])  \n",
    "(Data House Rock, \\[1, 1, 1, 1, 1, 1, 1, 1, 1, 1, 1, ...\\])  \n",
    "(Broken Networks, \\[1, 1, 1, ...\\]  \n",
    "\n",
    "With the output \n",
    "\n",
    "(Deep Dreams, 1131)  \n",
    "(Data House Rock, 510)  \n",
    "(Broken Networks, 828)  "
   ]
  },
  {
   "cell_type": "code",
   "execution_count": null,
   "metadata": {},
   "outputs": [],
   "source": []
  }
 ],
 "metadata": {
  "kernelspec": {
   "display_name": "Python 3",
   "language": "python",
   "name": "python3"
  },
  "language_info": {
   "codemirror_mode": {
    "name": "ipython",
    "version": 3
   },
   "file_extension": ".py",
   "mimetype": "text/x-python",
   "name": "python",
   "nbconvert_exporter": "python",
   "pygments_lexer": "ipython3",
   "version": "3.7.3"
  }
 },
 "nbformat": 4,
 "nbformat_minor": 2
}
