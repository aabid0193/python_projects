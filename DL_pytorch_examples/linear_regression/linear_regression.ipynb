{
 "cells": [
  {
   "cell_type": "markdown",
   "metadata": {},
   "source": [
    "## Linear Regression with pytorch"
   ]
  },
  {
   "cell_type": "code",
   "execution_count": 1,
   "metadata": {},
   "outputs": [],
   "source": [
    "import numpy as np\n",
    "import matplotlib.pyplot as plt"
   ]
  },
  {
   "cell_type": "code",
   "execution_count": 2,
   "metadata": {},
   "outputs": [
    {
     "data": {
      "image/png": "[encoded data removed]",
      "text/plain": [
       "<Figure size 432x288 with 1 Axes>"
      ]
     },
     "metadata": {
      "needs_background": "light"
     },
     "output_type": "display_data"
    }
   ],
   "source": [
    "np.random.seed(1)\n",
    "n = 50\n",
    "x = np.random.randn(n)\n",
    "y = x * np.random.randn(n)\n",
    "\n",
    "colors = np.random.rand(n)\n",
    "plt.plot(np.unique(x), np.poly1d(np.polyfit(x, y, 1))(np.unique(x)))\n",
    "\n",
    "plt.scatter(x, y, c = colors, alpha = 0.5)\n",
    "plt.show()"
   ]
  },
  {
   "cell_type": "markdown",
   "metadata": {},
   "source": [
    "### Aim of Linear Regression\n",
    "\n",
    "* Minimize distance between the points and the line (y = ax + B)\n",
    "* Adjusting\n",
    "    * Coefficients : a\n",
    "    * Bias/Intercept : B"
   ]
  },
  {
   "cell_type": "markdown",
   "metadata": {},
   "source": [
    "### Building toy dataset"
   ]
  },
  {
   "cell_type": "code",
   "execution_count": 3,
   "metadata": {},
   "outputs": [],
   "source": [
    "x_values = [i for i in range(11)]"
   ]
  },
  {
   "cell_type": "code",
   "execution_count": 4,
   "metadata": {},
   "outputs": [
    {
     "data": {
      "text/plain": [
       "[0, 1, 2, 3, 4, 5, 6, 7, 8, 9, 10]"
      ]
     },
     "execution_count": 4,
     "metadata": {},
     "output_type": "execute_result"
    }
   ],
   "source": [
    "x_values"
   ]
  },
  {
   "cell_type": "code",
   "execution_count": 5,
   "metadata": {},
   "outputs": [
    {
     "data": {
      "text/plain": [
       "(11,)"
      ]
     },
     "execution_count": 5,
     "metadata": {},
     "output_type": "execute_result"
    }
   ],
   "source": [
    "# Convert to numpy\n",
    "x_train = np.array(x_values, dtype=np.float32)\n",
    "x_train.shape"
   ]
  },
  {
   "cell_type": "code",
   "execution_count": 6,
   "metadata": {},
   "outputs": [
    {
     "name": "stdout",
     "output_type": "stream",
     "text": [
      "(11, 1)\n"
     ]
    },
    {
     "data": {
      "text/plain": [
       "array([[ 0.],\n",
       "       [ 1.],\n",
       "       [ 2.],\n",
       "       [ 3.],\n",
       "       [ 4.],\n",
       "       [ 5.],\n",
       "       [ 6.],\n",
       "       [ 7.],\n",
       "       [ 8.],\n",
       "       [ 9.],\n",
       "       [10.]], dtype=float32)"
      ]
     },
     "execution_count": 6,
     "metadata": {},
     "output_type": "execute_result"
    }
   ],
   "source": [
    "# Important: 2D required\n",
    "x_train = x_train.reshape(-1, 1)\n",
    "print(x_train.shape)\n",
    "x_train"
   ]
  },
  {
   "cell_type": "markdown",
   "metadata": {},
   "source": [
    "y = 2x + 1"
   ]
  },
  {
   "cell_type": "code",
   "execution_count": 7,
   "metadata": {},
   "outputs": [],
   "source": [
    "y_values = [2*i + 1 for i in x_values]"
   ]
  },
  {
   "cell_type": "code",
   "execution_count": 8,
   "metadata": {},
   "outputs": [
    {
     "data": {
      "text/plain": [
       "[1, 3, 5, 7, 9, 11, 13, 15, 17, 19, 21]"
      ]
     },
     "execution_count": 8,
     "metadata": {},
     "output_type": "execute_result"
    }
   ],
   "source": [
    "y_values"
   ]
  },
  {
   "cell_type": "code",
   "execution_count": 9,
   "metadata": {},
   "outputs": [
    {
     "data": {
      "text/plain": [
       "array([ 1.,  3.,  5.,  7.,  9., 11., 13., 15., 17., 19., 21.],\n",
       "      dtype=float32)"
      ]
     },
     "execution_count": 9,
     "metadata": {},
     "output_type": "execute_result"
    }
   ],
   "source": [
    "y_train = np.array(y_values, dtype = np.float32)\n",
    "y_train.shape\n",
    "y_train"
   ]
  },
  {
   "cell_type": "code",
   "execution_count": 10,
   "metadata": {},
   "outputs": [
    {
     "name": "stdout",
     "output_type": "stream",
     "text": [
      "(11, 1)\n"
     ]
    },
    {
     "data": {
      "text/plain": [
       "array([[ 1.],\n",
       "       [ 3.],\n",
       "       [ 5.],\n",
       "       [ 7.],\n",
       "       [ 9.],\n",
       "       [11.],\n",
       "       [13.],\n",
       "       [15.],\n",
       "       [17.],\n",
       "       [19.],\n",
       "       [21.]], dtype=float32)"
      ]
     },
     "execution_count": 10,
     "metadata": {},
     "output_type": "execute_result"
    }
   ],
   "source": [
    "# Important: 2D required\n",
    "y_train = y_train.reshape(-1, 1)\n",
    "print(y_train.shape)\n",
    "y_train"
   ]
  },
  {
   "cell_type": "markdown",
   "metadata": {},
   "source": [
    "## Building the model"
   ]
  },
  {
   "cell_type": "code",
   "execution_count": 11,
   "metadata": {},
   "outputs": [],
   "source": [
    "import torch\n",
    "import torch.nn as nn\n",
    "from torch.autograd import Variable"
   ]
  },
  {
   "cell_type": "markdown",
   "metadata": {},
   "source": [
    "### Create Model\n",
    "\n",
    "1. Linear Model\n",
    "    * True Equation: y = 2x +1\n",
    "2. Forward\n",
    "    * Example\n",
    "        * Input x = 1\n",
    "        * Output y_hat = ?"
   ]
  },
  {
   "cell_type": "code",
   "execution_count": 12,
   "metadata": {},
   "outputs": [],
   "source": [
    "class LinearRegressionModel(nn.Module):  # always pass in nn.module\n",
    "    def __init__(self, input_size, output_size):\n",
    "        #inherits nn.module and allows you to access attributes from nn.module\n",
    "        super(LinearRegressionModel, self).__init__()\n",
    "        self.linear = nn.Linear(input_dim, output_dim)\n",
    "        #input_dim is x and output_dim is y\n",
    "        \n",
    "    def forward(self, x):\n",
    "        out = self.linear(x)\n",
    "        return out"
   ]
  },
  {
   "cell_type": "markdown",
   "metadata": {},
   "source": [
    "### Instantiate Model Class\n",
    "   * Input: [0, 1, 2, 3, 4, 5, 6, 7, 8, 9, 10]\n",
    "   * desired output: [1, 3, 5, 7, 9, 11, 13, 15, 17, 19, 21]"
   ]
  },
  {
   "cell_type": "code",
   "execution_count": 13,
   "metadata": {},
   "outputs": [],
   "source": [
    "input_dim = 1\n",
    "output_dim = 1\n",
    "\n",
    "model = LinearRegressionModel(input_dim, output_dim)\n",
    "\n",
    "#######################\n",
    "#  USE GPU FOR MODEL  #\n",
    "#######################\n",
    "if torch.cuda.is_available():\n",
    "    model.cuda()"
   ]
  },
  {
   "cell_type": "markdown",
   "metadata": {},
   "source": [
    "### Instantiate Loss Class\n",
    "\n",
    "   * MSE Loss: Mean Squared Error\n",
    "   * MSE = 1/n"
   ]
  },
  {
   "cell_type": "markdown",
   "metadata": {},
   "source": [
    "$$MSE = \\frac{{1}}{{n}}    \\sum (y - \\hat{y})^2$$\n",
    "\n",
    "* y_hat = prediction  \n",
    "* y = true value"
   ]
  },
  {
   "cell_type": "code",
   "execution_count": 14,
   "metadata": {},
   "outputs": [],
   "source": [
    "criterion = nn.MSELoss()"
   ]
  },
  {
   "cell_type": "markdown",
   "metadata": {},
   "source": [
    "<img src=\"optimizer_class.png\"\n",
    "     style=\"float: left; margin-right: 10px;\" />"
   ]
  },
  {
   "cell_type": "code",
   "execution_count": 15,
   "metadata": {},
   "outputs": [],
   "source": [
    "learning_rate = 0.01\n",
    "optimizer = torch.optim.SGD(model.parameters(), lr=learning_rate)"
   ]
  },
  {
   "cell_type": "markdown",
   "metadata": {},
   "source": [
    "<img src=\"train_model.png\"\n",
    "     style=\"float: left; margin-right: 10px;\" />"
   ]
  },
  {
   "cell_type": "code",
   "execution_count": 16,
   "metadata": {
    "scrolled": true
   },
   "outputs": [
    {
     "name": "stdout",
     "output_type": "stream",
     "text": [
      "epoch 0, loss 284.4206848144531\n",
      "epoch 1, loss 23.20188331604004\n",
      "epoch 2, loss 1.8950631618499756\n",
      "epoch 3, loss 0.15710538625717163\n",
      "epoch 4, loss 0.015316873788833618\n",
      "epoch 5, loss 0.0037238181103020906\n",
      "epoch 6, loss 0.002750517101958394\n",
      "epoch 7, loss 0.0026438161730766296\n",
      "epoch 8, loss 0.002608118113130331\n",
      "epoch 9, loss 0.002578485757112503\n",
      "epoch 10, loss 0.0025496550370007753\n",
      "epoch 11, loss 0.002521154470741749\n",
      "epoch 12, loss 0.0024930189829319715\n",
      "epoch 13, loss 0.0024651901330798864\n",
      "epoch 14, loss 0.002437659539282322\n",
      "epoch 15, loss 0.0024104348849505186\n",
      "epoch 16, loss 0.002383498940616846\n",
      "epoch 17, loss 0.0023568961769342422\n",
      "epoch 18, loss 0.002330562798306346\n",
      "epoch 19, loss 0.002304535126313567\n",
      "epoch 20, loss 0.0022788115311414003\n",
      "epoch 21, loss 0.0022533636074513197\n",
      "epoch 22, loss 0.002228213008493185\n",
      "epoch 23, loss 0.0022033245768398046\n",
      "epoch 24, loss 0.0021787292789667845\n",
      "epoch 25, loss 0.0021543814800679684\n",
      "epoch 26, loss 0.0021303293760865927\n",
      "epoch 27, loss 0.00210653361864388\n",
      "epoch 28, loss 0.0020830021239817142\n",
      "epoch 29, loss 0.0020597625989466906\n",
      "epoch 30, loss 0.0020367533434182405\n",
      "epoch 31, loss 0.002014032332226634\n",
      "epoch 32, loss 0.001991530181840062\n",
      "epoch 33, loss 0.0019692862406373024\n",
      "epoch 34, loss 0.0019473028369247913\n",
      "epoch 35, loss 0.00192554434761405\n",
      "epoch 36, loss 0.0019040439510717988\n",
      "epoch 37, loss 0.0018827891908586025\n",
      "epoch 38, loss 0.001861749915406108\n",
      "epoch 39, loss 0.0018409781623631716\n",
      "epoch 40, loss 0.0018204119987785816\n",
      "epoch 41, loss 0.0018000840209424496\n",
      "epoch 42, loss 0.0017799787456169724\n",
      "epoch 43, loss 0.0017601147992536426\n",
      "epoch 44, loss 0.0017404492245987058\n",
      "epoch 45, loss 0.0017210097284987569\n",
      "epoch 46, loss 0.0017017993377521634\n",
      "epoch 47, loss 0.0016827922081574798\n",
      "epoch 48, loss 0.001664013834670186\n",
      "epoch 49, loss 0.0016454231226816773\n",
      "epoch 50, loss 0.001627057557925582\n",
      "epoch 51, loss 0.0016088694101199508\n",
      "epoch 52, loss 0.0015909260837361217\n",
      "epoch 53, loss 0.001573170186020434\n",
      "epoch 54, loss 0.0015555752906948328\n",
      "epoch 55, loss 0.0015382186975330114\n",
      "epoch 56, loss 0.001521034282632172\n",
      "epoch 57, loss 0.0015040537109598517\n",
      "epoch 58, loss 0.0014872513711452484\n",
      "epoch 59, loss 0.001470644841901958\n",
      "epoch 60, loss 0.001454227021895349\n",
      "epoch 61, loss 0.0014379802159965038\n",
      "epoch 62, loss 0.0014219211880117655\n",
      "epoch 63, loss 0.0014060651883482933\n",
      "epoch 64, loss 0.001390347839333117\n",
      "epoch 65, loss 0.0013748259516432881\n",
      "epoch 66, loss 0.001359474495984614\n",
      "epoch 67, loss 0.0013442722847685218\n",
      "epoch 68, loss 0.0013292795047163963\n",
      "epoch 69, loss 0.0013144362019374967\n",
      "epoch 70, loss 0.001299758325330913\n",
      "epoch 71, loss 0.0012852461077272892\n",
      "epoch 72, loss 0.0012708855792880058\n",
      "epoch 73, loss 0.0012567004887387156\n",
      "epoch 74, loss 0.001242654980160296\n",
      "epoch 75, loss 0.0012287955032661557\n",
      "epoch 76, loss 0.0012150583788752556\n",
      "epoch 77, loss 0.0012015063548460603\n",
      "epoch 78, loss 0.0011880776146426797\n",
      "epoch 79, loss 0.0011748134857043624\n",
      "epoch 80, loss 0.0011616910342127085\n",
      "epoch 81, loss 0.0011487125884741545\n",
      "epoch 82, loss 0.0011358906049281359\n",
      "epoch 83, loss 0.0011232019169256091\n",
      "epoch 84, loss 0.0011106638703495264\n",
      "epoch 85, loss 0.0010982585372403264\n",
      "epoch 86, loss 0.0010859874309971929\n",
      "epoch 87, loss 0.0010738627752289176\n",
      "epoch 88, loss 0.0010618736268952489\n",
      "epoch 89, loss 0.0010500239441171288\n",
      "epoch 90, loss 0.001038287067785859\n",
      "epoch 91, loss 0.0010266958270221949\n",
      "epoch 92, loss 0.0010152317117899656\n",
      "epoch 93, loss 0.001003891695290804\n",
      "epoch 94, loss 0.000992689747363329\n",
      "epoch 95, loss 0.000981596764177084\n",
      "epoch 96, loss 0.0009706382406875491\n",
      "epoch 97, loss 0.000959794910158962\n",
      "epoch 98, loss 0.0009490884258411825\n",
      "epoch 99, loss 0.0009384750737808645\n"
     ]
    }
   ],
   "source": [
    "epochs = 100\n",
    "\n",
    "for epoch in range(epochs):\n",
    "    ++epoch\n",
    "    \n",
    "    # Convert numpy array to torch Variable\n",
    "    inputs = Variable(torch.from_numpy(x_train))\n",
    "    labels = Variable(torch.from_numpy(y_train))\n",
    "    \n",
    "    \n",
    "    #######################\n",
    "    #  USE GPU FOR MODEL  #\n",
    "    #######################\n",
    "    if torch.cuda.is_available():\n",
    "        inputs = Variable(torch.from_numpy(x_train).cuda())\n",
    "        \n",
    "    #######################\n",
    "    #  USE GPU FOR MODEL  #\n",
    "    #######################\n",
    "    if torch.cuda.is_available():\n",
    "        labels = Variable(torch.from_numpy(y_train).cuda())\n",
    "        \n",
    "    # Clear gradients w.r.t. parameters\n",
    "    optimizer.zero_grad() \n",
    "    \n",
    "    # Forward to get output\n",
    "    outputs = model(inputs)\n",
    "    \n",
    "    # Calculate Loss\n",
    "    loss = criterion(outputs, labels)\n",
    "    \n",
    "    # Getting gradients w.r.t. parameters\n",
    "    loss.backward()\n",
    "    \n",
    "    # Updating parameters\n",
    "    optimizer.step()\n",
    "    \n",
    "    # Logging\n",
    "    print(f'epoch {epoch}, loss {loss.data}')"
   ]
  },
  {
   "cell_type": "markdown",
   "metadata": {},
   "source": [
    "### Compare Data"
   ]
  },
  {
   "cell_type": "code",
   "execution_count": 18,
   "metadata": {},
   "outputs": [],
   "source": [
    "# Purely inference\n",
    "predicted = model(Variable(torch.from_numpy(x_train))).data.numpy()"
   ]
  },
  {
   "cell_type": "code",
   "execution_count": 19,
   "metadata": {},
   "outputs": [
    {
     "data": {
      "text/plain": [
       "array([[ 1.0569867],\n",
       "       [ 3.04878  ],\n",
       "       [ 5.0405736],\n",
       "       [ 7.0323668],\n",
       "       [ 9.02416  ],\n",
       "       [11.015954 ],\n",
       "       [13.007747 ],\n",
       "       [14.99954  ],\n",
       "       [16.991333 ],\n",
       "       [18.983126 ],\n",
       "       [20.97492  ]], dtype=float32)"
      ]
     },
     "execution_count": 19,
     "metadata": {},
     "output_type": "execute_result"
    }
   ],
   "source": [
    "predicted"
   ]
  },
  {
   "cell_type": "code",
   "execution_count": 20,
   "metadata": {},
   "outputs": [
    {
     "data": {
      "text/plain": [
       "array([[ 1.],\n",
       "       [ 3.],\n",
       "       [ 5.],\n",
       "       [ 7.],\n",
       "       [ 9.],\n",
       "       [11.],\n",
       "       [13.],\n",
       "       [15.],\n",
       "       [17.],\n",
       "       [19.],\n",
       "       [21.]], dtype=float32)"
      ]
     },
     "execution_count": 20,
     "metadata": {},
     "output_type": "execute_result"
    }
   ],
   "source": [
    "y_train"
   ]
  },
  {
   "cell_type": "markdown",
   "metadata": {},
   "source": [
    "### Plot Graph"
   ]
  },
  {
   "cell_type": "code",
   "execution_count": 24,
   "metadata": {},
   "outputs": [
    {
     "data": {
      "image/png": "[encoded data removed]",
      "text/plain": [
       "<Figure size 432x288 with 1 Axes>"
      ]
     },
     "metadata": {
      "needs_background": "light"
     },
     "output_type": "display_data"
    }
   ],
   "source": [
    "# Clear figure\n",
    "plt.clf()\n",
    "\n",
    "# Get predictions\n",
    "predicted = model(Variable(torch.from_numpy(x_train))).data.numpy()\n",
    "\n",
    "# Plot true values\n",
    "plt.plot(x_train, y_train, 'go', label = \"True data\", alpha = 0.5)\n",
    "\n",
    "# Plot true values\n",
    "plt.plot(x_train, predicted, '--', label = \"True data\", alpha = 0.5)\n",
    "\n",
    "# Legend and plot\n",
    "plt.legend(loc = \"best\")\n",
    "plt.show()"
   ]
  },
  {
   "cell_type": "markdown",
   "metadata": {},
   "source": [
    "### Save Model"
   ]
  },
  {
   "cell_type": "code",
   "execution_count": 27,
   "metadata": {},
   "outputs": [
    {
     "data": {
      "text/plain": [
       "OrderedDict([('linear.weight', tensor([[1.9918]])),\n",
       "             ('linear.bias', tensor([1.0570]))])"
      ]
     },
     "execution_count": 27,
     "metadata": {},
     "output_type": "execute_result"
    }
   ],
   "source": [
    "model.state_dict()"
   ]
  },
  {
   "cell_type": "code",
   "execution_count": 30,
   "metadata": {},
   "outputs": [],
   "source": [
    "save_model = False\n",
    "if save_model is True:\n",
    "    # Saves only parameters\n",
    "    # alpha & beta\n",
    "    torch.save(model.state_dict(), 'awesome_model.pkl')"
   ]
  },
  {
   "cell_type": "code",
   "execution_count": 31,
   "metadata": {},
   "outputs": [],
   "source": [
    "load_model = False\n",
    "if load_model is True:\n",
    "    model.load_state_dict(torch.load('awesome_model.pkl'))"
   ]
  },
  {
   "cell_type": "code",
   "execution_count": 33,
   "metadata": {},
   "outputs": [],
   "source": []
  },
  {
   "cell_type": "markdown",
   "metadata": {},
   "source": [
    "<img src=\"summary.png\"\n",
    "     style=\"float: left; margin-right: 10px;\" />"
   ]
  },
  {
   "cell_type": "code",
   "execution_count": null,
   "metadata": {},
   "outputs": [],
   "source": []
  }
 ],
 "metadata": {
  "kernelspec": {
   "display_name": "Python 3",
   "language": "python",
   "name": "python3"
  },
  "language_info": {
   "codemirror_mode": {
    "name": "ipython",
    "version": 3
   },
   "file_extension": ".py",
   "mimetype": "text/x-python",
   "name": "python",
   "nbconvert_exporter": "python",
   "pygments_lexer": "ipython3",
   "version": "3.7.3"
  }
 },
 "nbformat": 4,
 "nbformat_minor": 2
}
